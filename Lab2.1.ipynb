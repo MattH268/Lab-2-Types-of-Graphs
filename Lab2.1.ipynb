{
  "nbformat": 4,
  "nbformat_minor": 0,
  "metadata": {
    "colab": {
      "name": "Copy of Copy of Copy of Lab2Template.ipynb",
      "provenance": []
    },
    "kernelspec": {
      "name": "python3",
      "display_name": "Python 3"
    }
  },
  "cells": [
    {
      "cell_type": "markdown",
      "metadata": {
        "id": "6sOc4Uyr4U-Z",
        "colab_type": "text"
      },
      "source": [
        "## **Types of Graphs**"
      ]
    },
    {
      "cell_type": "markdown",
      "metadata": {
        "id": "0zZdVLAd5CYr",
        "colab_type": "text"
      },
      "source": [
        "Creator\n",
        "* Matthew Hughes"
      ]
    },
    {
      "cell_type": "markdown",
      "metadata": {
        "id": "g-r6Clq45Hn4",
        "colab_type": "text"
      },
      "source": [
        "### Deviation\n"
      ]
    },
    {
      "cell_type": "markdown",
      "metadata": {
        "id": "2gorxo6E7A0t",
        "colab_type": "text"
      },
      "source": [
        "![alt text](https://raw.githubusercontent.com/MattH268/Lab-2-Types-of-Graphs/master/Sheet%202.png)"
      ]
    },
    {
      "cell_type": "markdown",
      "metadata": {
        "id": "w6bZ_NEi7E3w",
        "colab_type": "text"
      },
      "source": [
        "#### About This Graph"
      ]
    },
    {
      "cell_type": "markdown",
      "metadata": {
        "id": "95L-spaC7QHF",
        "colab_type": "text"
      },
      "source": [
        "This graph shows the standard deviation of points from 2000 to 2019, with the March Madness Tournament. As you can see from the graph, the standard deviation often changes sharply from year to year. This tells us that from year to year, the amount (of points) differentiate from the average score quite differently year to year. Some years, like 2003 to 2005, the distance from the normal amount of points stayed around the same. In contrast, from 2017 to 2018, this change was very significant. This tells me that generally over these nearly 20 years, the amount of points scored differ from their average at quite different rates."
      ]
    },
    {
      "cell_type": "markdown",
      "metadata": {
        "id": "YgXyXjmz7cDP",
        "colab_type": "text"
      },
      "source": [
        "### Correlation\n"
      ]
    },
    {
      "cell_type": "markdown",
      "metadata": {
        "id": "SGx15rZq7hvt",
        "colab_type": "text"
      },
      "source": [
        "![alt text](https://raw.githubusercontent.com/MattH268/Lab-2-Types-of-Graphs/master/Sheet%208.png)"
      ]
    },
    {
      "cell_type": "markdown",
      "metadata": {
        "id": "dljjONNi7jmj",
        "colab_type": "text"
      },
      "source": [
        "#### About This Graph"
      ]
    },
    {
      "cell_type": "markdown",
      "metadata": {
        "id": "PwZEZrFB7laG",
        "colab_type": "text"
      },
      "source": [
        "This graph tells us how the amount of points scored correlate with each year, with the March Madness Data. You can see the dashed red line showing this negative correlation, illustrating how over the nearly twenty years the amount of points scored has decreased overall. This red line is steadily downward-sloping at a constant – but not sharp – rate. Looking at the chart, you can see most years the points scored numbers around 140. The highest-scored year shown is 2006 with almost 180 points scored; while the lowest-scored year is 2019, with only about 40 points. The 2019 tournament looks to be an outlier from the rest of the data."
      ]
    },
    {
      "cell_type": "markdown",
      "metadata": {
        "id": "MqUdI-uL7r2s",
        "colab_type": "text"
      },
      "source": [
        "### Ranking\n"
      ]
    },
    {
      "cell_type": "markdown",
      "metadata": {
        "id": "AvlxCOVt7x9F",
        "colab_type": "text"
      },
      "source": [
        "![alt text](https://raw.githubusercontent.com/MattH268/Lab-2-Types-of-Graphs/master/Sheet%204.png)"
      ]
    },
    {
      "cell_type": "markdown",
      "metadata": {
        "id": "lCAYtfza7yTq",
        "colab_type": "text"
      },
      "source": [
        "#### About This Graph"
      ]
    },
    {
      "cell_type": "markdown",
      "metadata": {
        "id": "MyuciD277ygU",
        "colab_type": "text"
      },
      "source": [
        "This graph shows the average amount of points scored during the March Madness Tournament, ranked from highest to lowest from 2000-2019. This graph clearly shows the amount of points scored in descending order, and displays the year for each column. You can see the first column, which had the highest scoring overall, was 2006. At the other end of the graph, you’ll see 2019, which had a very low amount of points scored; around half of the previous year. The top three scoring years were 2006, 2008, and 2007; while the three lowest scoring years were 2014, 2015, and 2019. Most years fell within 120 to around 140 points. "
      ]
    },
    {
      "cell_type": "markdown",
      "metadata": {
        "id": "dGDGl8-G7y8Y",
        "colab_type": "text"
      },
      "source": [
        "### Distribution\n"
      ]
    },
    {
      "cell_type": "markdown",
      "metadata": {
        "id": "FB0uV-jy76p9",
        "colab_type": "text"
      },
      "source": [
        "![alt text](https://raw.githubusercontent.com/MattH268/Lab-2-Types-of-Graphs/master/Sheet%205%20(1).png)"
      ]
    },
    {
      "cell_type": "markdown",
      "metadata": {
        "id": "_6SOzhrQ76zH",
        "colab_type": "text"
      },
      "source": [
        "#### About This Graph"
      ]
    },
    {
      "cell_type": "markdown",
      "metadata": {
        "id": "HBWqsS_g767h",
        "colab_type": "text"
      },
      "source": [
        "This graph shows the average winning points score for the March Madness Tournament in a distribution. The graph here categories the data into bins and then puts the winning score for each year within its corresponding bin. By examining the graph, you can see the largest bin is the 70–80 points score, with exactly 600 games. The next biggest bin is the 80-90 point category, followed by the 60-70. Looking at the graph, most the winning games have points that fall within one these three categories. of Only a handful of games had over 110 points, with only one game having 142 points for its winning score. "
      ]
    },
    {
      "cell_type": "markdown",
      "metadata": {
        "id": "wQsDThk677Fy",
        "colab_type": "text"
      },
      "source": [
        "### Change over Time\n"
      ]
    },
    {
      "cell_type": "markdown",
      "metadata": {
        "id": "Z1j_YLOA7_OK",
        "colab_type": "text"
      },
      "source": [
        "![alt text](https://raw.githubusercontent.com/MattH268/Lab-2-Types-of-Graphs/master/Sheet%209.png)"
      ]
    },
    {
      "cell_type": "markdown",
      "metadata": {
        "id": "mpfsmmgi7_Vj",
        "colab_type": "text"
      },
      "source": [
        "#### About This Graph"
      ]
    },
    {
      "cell_type": "markdown",
      "metadata": {
        "id": "rYLXoMMO7_di",
        "colab_type": "text"
      },
      "source": [
        "This graph here shows the amount of points scored for the average winning and losing score for each game of March Madness, from 1985 until 2017. The highest winning game score was in 1989 with an average of about 85 points. The lowest losing game score was in 1985, averaging about 59 points. What’s interesting about this graph is that you would expect both lines to be horizontal, assuming nothing changes with the game or tournament. But instead from year to year, every year, the average score changes; and it continues to change over the 30-plus years of data. This shows that something is changing with the game, perhaps rules or something physical. Another interesting point about the graph is that the winning and losing scores mirror each other quite well over these years, with a difference of about 11 points."
      ]
    },
    {
      "cell_type": "markdown",
      "metadata": {
        "id": "lFwiHoE-7_jZ",
        "colab_type": "text"
      },
      "source": [
        "### Magnitude\n"
      ]
    },
    {
      "cell_type": "markdown",
      "metadata": {
        "id": "ICQFnXj78EbF",
        "colab_type": "text"
      },
      "source": [
        "![alt text](https://raw.githubusercontent.com/MattH268/Lab-2-Types-of-Graphs/master/Sheet%207.png)"
      ]
    },
    {
      "cell_type": "markdown",
      "metadata": {
        "id": "QGG7XYG88Eii",
        "colab_type": "text"
      },
      "source": [
        "#### About This Graph"
      ]
    },
    {
      "cell_type": "markdown",
      "metadata": {
        "id": "VS7uGa0l8Eos",
        "colab_type": "text"
      },
      "source": [
        "This is a magnitude graph, and shows the total winning points per round of the March Madness Tournament. There are six rounds, and six corresponding bins for each. In there first round, there are 64 teams playing; and each consecutive round has half of its previous, with the final round having only two teams play for the championship. There are about half as many points scored each round than its preceding round, which makes sense as there are only half as many teams. In the first round, there were over 80,000 total points scored. And in the final round, there were about 2,500 total points scored."
      ]
    },
    {
      "cell_type": "markdown",
      "metadata": {
        "id": "bEKFxP8R8Evk",
        "colab_type": "text"
      },
      "source": [
        "### Part-to-Whole\n"
      ]
    },
    {
      "cell_type": "markdown",
      "metadata": {
        "id": "WFHlcYKV8E35",
        "colab_type": "text"
      },
      "source": [
        "![alt text](https://raw.githubusercontent.com/MattH268/Lab-2-Types-of-Graphs/master/Sheet%2011.png)"
      ]
    },
    {
      "cell_type": "markdown",
      "metadata": {
        "id": "PNSd3wlp8UZH",
        "colab_type": "text"
      },
      "source": [
        "#### About This Graph"
      ]
    },
    {
      "cell_type": "markdown",
      "metadata": {
        "id": "y9tb_QRA8aqt",
        "colab_type": "text"
      },
      "source": [
        "This is a part-to-whole graph, and it shows the total winning points for each round in the March Madness Tournament. This graph shows the data in a visually representative way. The number in each box corresponds to its corresponding round, and more specifically the number of teams playing. For example, the largest box displays the first round, which has 64 teams. This first box represents about 81,000 points. The second box accounts for about 41,000 points, with the 3rd round box taking up over 20,000 points. The last box contained about 2,500 winning points. The color and shade of the graph also represents the amount of points scored – with lighter blue for lower points and a darker blue for the higher number of points."
      ]
    }
  ]
}